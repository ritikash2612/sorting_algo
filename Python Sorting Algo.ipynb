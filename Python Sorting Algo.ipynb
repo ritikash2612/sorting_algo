{
 "cells": [
  {
   "cell_type": "markdown",
   "metadata": {},
   "source": [
    "#### Sorting Algorithms - implementation in python"
   ]
  },
  {
   "cell_type": "code",
   "execution_count": 1,
   "metadata": {},
   "outputs": [],
   "source": [
    "### Insertion sort"
   ]
  },
  {
   "cell_type": "code",
   "execution_count": 2,
   "metadata": {},
   "outputs": [],
   "source": [
    "# in an insertion sort all items to the left of an item are smaller than the item"
   ]
  },
  {
   "cell_type": "code",
   "execution_count": 3,
   "metadata": {},
   "outputs": [
    {
     "data": {
      "text/plain": [
       "(5, 8, 1, 3, 9, 6)"
      ]
     },
     "execution_count": 3,
     "metadata": {},
     "output_type": "execute_result"
    }
   ],
   "source": [
    "5,8,1,3,9,6"
   ]
  },
  {
   "cell_type": "markdown",
   "metadata": {},
   "source": [
    "the insertion sort begins at 8"
   ]
  },
  {
   "cell_type": "markdown",
   "metadata": {},
   "source": [
    "comparing item to its left 8 - 5 so 8 stays at the same place\n",
    "##### next comparison is for 1 and 8 they swap"
   ]
  },
  {
   "cell_type": "markdown",
   "metadata": {},
   "source": [
    "its not a fast sorting algo uses nested loops for shifting the values , used for small data sets \n",
    "complexity O(n^2)"
   ]
  },
  {
   "cell_type": "code",
   "execution_count": 4,
   "metadata": {},
   "outputs": [],
   "source": [
    "def insertion_sort(a):\n",
    "    for i in range(1, len(a)):\n",
    "        for j in range(i-1, -1, -1):\n",
    "            if a[j]> a[j+1]:\n",
    "                a[j], a[j+1] = a[j+1], a[j]\n",
    "            else:\n",
    "                break\n",
    "    print(a)\n",
    "            \n",
    "                \n",
    "                "
   ]
  },
  {
   "cell_type": "code",
   "execution_count": 5,
   "metadata": {},
   "outputs": [],
   "source": [
    "def insertion_sort_shifting_method(a):\n",
    "    for i in range(1, len(a)):\n",
    "        curr = a[i]\n",
    "        for j in range(i-1, -1 , -1):\n",
    "            if a[j] > curr:\n",
    "                a[j+1] = a[j]\n",
    "                a[j] = curr\n",
    "            else:\n",
    "                a[j+1] = curr\n",
    "                break\n",
    "    print(a)"
   ]
  },
  {
   "cell_type": "code",
   "execution_count": 6,
   "metadata": {},
   "outputs": [
    {
     "name": "stdout",
     "output_type": "stream",
     "text": [
      "[2, 5, 6, 7, 8]\n"
     ]
    }
   ],
   "source": [
    "insertion_sort([8,6,7,2,5])"
   ]
  },
  {
   "cell_type": "code",
   "execution_count": 7,
   "metadata": {},
   "outputs": [
    {
     "name": "stdout",
     "output_type": "stream",
     "text": [
      "[2, 5, 6, 7, 9]\n"
     ]
    }
   ],
   "source": [
    "insertion_sort_shifting_method([9,6,7,2,5])"
   ]
  },
  {
   "cell_type": "code",
   "execution_count": 8,
   "metadata": {},
   "outputs": [],
   "source": [
    "#merge sort good for large data sets"
   ]
  },
  {
   "cell_type": "markdown",
   "metadata": {},
   "source": [
    "#### Merge Sort"
   ]
  },
  {
   "cell_type": "markdown",
   "metadata": {},
   "source": [
    "log n merge steps the list size doubles, n sort per step so n log n\n",
    "\n",
    "if there are more than one element in the list then we split the llist into two halves and then apply the [erge sort on each of these halves]\n",
    "\n",
    "Requires space to create a new list that is sorted instead of replacing the values in the actual list"
   ]
  },
  {
   "cell_type": "code",
   "execution_count": 9,
   "metadata": {},
   "outputs": [],
   "source": [
    "def merge_sort(A):\n",
    "    if len(A) <= 1:  ###17, 12, 23, 15, 22, 98\n",
    "        return A\n",
    "    else:\n",
    "        mid = len(A) // 2\n",
    "        left_part = merge_sort(A[:mid])   #17, 12, 23,      #### 15 17 12 22 23\n",
    "        right_part = merge_sort(A[mid:])  #15, 22, 98   \n",
    "        return merge(left_part, right_part)"
   ]
  },
  {
   "cell_type": "code",
   "execution_count": 10,
   "metadata": {},
   "outputs": [],
   "source": [
    "def merge(left_part, right_part):\n",
    "    final = []\n",
    "    left_len = len(left_part)   #3\n",
    "    right_len = len(right_part)   #3\n",
    "    left_ind = right_ind = 0\n",
    "    for i in range(left_len+right_len):\n",
    "        if left_ind < left_len and right_ind < right_len:\n",
    "            if left_part[left_ind] <= right_part[right_ind]:\n",
    "                final.append(left_part[left_ind])\n",
    "                left_ind +=1\n",
    "            else:\n",
    "                final.append(right_part[right_ind])\n",
    "                right_ind +=1\n",
    "        elif left_ind == left_len:\n",
    "            final.append(right_part[right_ind])\n",
    "            right_ind +=1\n",
    "        \n",
    "        elif right_ind == right_len:\n",
    "            final.append(left_part[left_ind])\n",
    "            left_ind +=1\n",
    "    return final\n",
    "    "
   ]
  },
  {
   "cell_type": "code",
   "execution_count": 11,
   "metadata": {},
   "outputs": [
    {
     "name": "stdout",
     "output_type": "stream",
     "text": [
      "[3, 6, 13, 17, 22, 41, 54, 87]\n"
     ]
    }
   ],
   "source": [
    "random_list_of_nums = [17,87,6,22,41,3,13,54]\n",
    "random_list_of_nums = merge_sort(random_list_of_nums)\n",
    "print(random_list_of_nums)"
   ]
  },
  {
   "cell_type": "code",
   "execution_count": null,
   "metadata": {},
   "outputs": [],
   "source": []
  },
  {
   "cell_type": "markdown",
   "metadata": {},
   "source": [
    "### Selection sort:\n",
    "    \n",
    "    looks for the smallest item and puts it into the first position"
   ]
  },
  {
   "cell_type": "markdown",
   "metadata": {},
   "source": [
    "change the min value every time you iterate\n",
    "once found then swap the value with the first value,\n",
    "not a fast sorting algo , uses nested loops <10000 records, O(n**2)"
   ]
  },
  {
   "cell_type": "code",
   "execution_count": 12,
   "metadata": {},
   "outputs": [],
   "source": [
    "def selection_sort(A):\n",
    "    for i in range(0,(len(A) - 1)):\n",
    "        minIndex = i\n",
    "        for j in range(i+1, len(A)):\n",
    "            if A[j] < A[minIndex]:\n",
    "                minIndex = j\n",
    "        if minIndex != i:\n",
    "            A[i] , A[minIndex] = A[minIndex], A[i]\n",
    "    return A"
   ]
  },
  {
   "cell_type": "code",
   "execution_count": 13,
   "metadata": {},
   "outputs": [
    {
     "name": "stdout",
     "output_type": "stream",
     "text": [
      "[2, 4, 5, 6, 8]\n"
     ]
    }
   ],
   "source": [
    "print(selection_sort([5,2,4,8,6]))"
   ]
  },
  {
   "cell_type": "markdown",
   "metadata": {},
   "source": [
    "#### Quick Sort"
   ]
  },
  {
   "cell_type": "markdown",
   "metadata": {},
   "source": [
    "use pivot for comparison\n",
    "select pivot and test the numbers on the left and right of the pivot, if yes then swap"
   ]
  },
  {
   "cell_type": "markdown",
   "metadata": {},
   "source": [
    "quick sort is a recusive method calls itself and uses divide and conquer approach, very efficient for very large data sets\n",
    "worst case O(n^2)\n",
    "average case O(n log n)\n",
    "pivot depends on the pivot selection if chosen best O(n log n)\n",
    "first and last element choices as pivot could give you worst performance.\n",
    "\n",
    "either choose middle or mean of three first last and middle\n",
    "\n",
    "doesnt require extra space like merge sort"
   ]
  },
  {
   "cell_type": "code",
   "execution_count": 14,
   "metadata": {},
   "outputs": [],
   "source": [
    "def quick_sort(A, start, end):\n",
    "    if start < end:\n",
    "        partition_index = partition(A, start, end)\n",
    "        quick_sort(A, 0, partition_index-1)\n",
    "        quick_sort(A, partition_index+1, end)\n",
    "    return A\n",
    "\n",
    "def partition(A, start, end):\n",
    "    pivot = A[end]\n",
    "    partition_index = start\n",
    "    for i in range(start,end):\n",
    "        if A[partition_index] <= pivot:\n",
    "            A[i], A[partition_index] = A[partition_index], A[i]\n",
    "            partition_index+=1\n",
    "    \n",
    "    A[partition_index], A[end] = A[end], A[partition_index]\n",
    "    return partition_index\n",
    "\n"
   ]
  },
  {
   "cell_type": "code",
   "execution_count": 15,
   "metadata": {},
   "outputs": [
    {
     "name": "stdout",
     "output_type": "stream",
     "text": [
      "[3, 6, 7, 11, 22, 34]\n"
     ]
    }
   ],
   "source": [
    "res =quick_sort([7,6,3,22,34,11], 0, 5)\n",
    "print(res)"
   ]
  },
  {
   "cell_type": "markdown",
   "metadata": {},
   "source": [
    "all the elements lesser than the pivot should be to the left and greater than the element should be on the right"
   ]
  },
  {
   "cell_type": "markdown",
   "metadata": {},
   "source": [
    "#### Bubble Sort"
   ]
  },
  {
   "cell_type": "markdown",
   "metadata": {},
   "source": [
    "compares two items next to each other from 0th index\n",
    "if left > right swap"
   ]
  },
  {
   "cell_type": "code",
   "execution_count": 16,
   "metadata": {},
   "outputs": [],
   "source": [
    "def bubble_sort(A):\n",
    "    for i in range(0, len(A)-1):\n",
    "        for j in range(0, len(A)-1 -i):\n",
    "            if A[j] > A[j+1]:\n",
    "                A[j], A[j+1] = A[j+1], A[j]\n",
    "                \n",
    "    return A"
   ]
  },
  {
   "cell_type": "code",
   "execution_count": 17,
   "metadata": {},
   "outputs": [
    {
     "name": "stdout",
     "output_type": "stream",
     "text": [
      "[1, 2, 4, 7]\n"
     ]
    }
   ],
   "source": [
    "print(bubble_sort([2,4,1,7]))"
   ]
  },
  {
   "cell_type": "code",
   "execution_count": null,
   "metadata": {},
   "outputs": [],
   "source": []
  }
 ],
 "metadata": {
  "kernelspec": {
   "display_name": "Python 3",
   "language": "python",
   "name": "python3"
  },
  "language_info": {
   "codemirror_mode": {
    "name": "ipython",
    "version": 3
   },
   "file_extension": ".py",
   "mimetype": "text/x-python",
   "name": "python",
   "nbconvert_exporter": "python",
   "pygments_lexer": "ipython3",
   "version": "3.6.8"
  }
 },
 "nbformat": 4,
 "nbformat_minor": 2
}
